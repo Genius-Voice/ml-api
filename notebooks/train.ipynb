{
 "cells": [
  {
   "cell_type": "markdown",
   "metadata": {},
   "source": [
    "# Import requirements"
   ]
  },
  {
   "cell_type": "code",
   "execution_count": null,
   "metadata": {},
   "outputs": [],
   "source": [
    "import numpy\n",
    "import pandas as pd\n",
    "import matplotlib.pyplot as plt\n",
    "from sklearn.pipeline import make_pipeline \n",
    "from embetter.text import SentenceEncoder\n",
    "from sklearn.svm import SVC\n",
    "from sklearn.model_selection import train_test_split\n",
    "from sklearn.metrics import accuracy_score\n",
    "from sklearn.metrics import (classification_report, \n",
    "                             confusion_matrix, \n",
    "                             accuracy_score)\n",
    "import os\n",
    "import pickle\n",
    "import time\n",
    "from itables import init_notebook_mode\n",
    "init_notebook_mode(all_interactive=True)"
   ]
  },
  {
   "cell_type": "markdown",
   "metadata": {},
   "source": [
    "# Step 1: Open csv"
   ]
  },
  {
   "cell_type": "code",
   "execution_count": null,
   "metadata": {},
   "outputs": [],
   "source": [
    "path_to_csv = \"../dataset/Tweets.csv\"\n",
    "dataframe = pd.read_csv(path_to_csv)\n",
    "dataframe = dataframe[dataframe['airline_sentiment_confidence'] >= 0.75].drop_duplicates()\n",
    "filtered_df = dataframe.filter(items=[\"text\",\"airline_sentiment\"])\n",
    "filtered_df"
   ]
  },
  {
   "cell_type": "markdown",
   "metadata": {},
   "source": [
    "# Step 2: Extract phrases and labels"
   ]
  },
  {
   "cell_type": "code",
   "execution_count": null,
   "metadata": {},
   "outputs": [],
   "source": [
    "training_phrases = filtered_df[\"text\"].to_numpy()\n",
    "training_labels = filtered_df[\"airline_sentiment\"].to_numpy()"
   ]
  },
  {
   "cell_type": "markdown",
   "metadata": {},
   "source": [
    "# Step 3: Plot label distribution"
   ]
  },
  {
   "cell_type": "code",
   "execution_count": null,
   "metadata": {},
   "outputs": [],
   "source": [
    "def plot_label_dist(labels) -> None:\n",
    "    label_dist, label_dist_count = numpy.unique(labels, return_counts = True)\n",
    "    label_dist = label_dist.astype(\"str\")\n",
    "    fig = plt.figure()\n",
    "    ax = fig.add_axes([0,0,1,1])\n",
    "    ax.set_ylabel('Count')\n",
    "    ax.set_title('Label distribution')\n",
    "    ax.bar(label_dist,label_dist_count)\n",
    "    plt.show()\n",
    "\n",
    "plot_label_dist(training_labels)"
   ]
  },
  {
   "cell_type": "markdown",
   "metadata": {},
   "source": [
    "# Step 4: Split data in train and test"
   ]
  },
  {
   "cell_type": "code",
   "execution_count": null,
   "metadata": {},
   "outputs": [],
   "source": [
    "x_train, x_val, y_train, y_val = train_test_split(training_phrases, \n",
    "                                                  training_labels,\n",
    "                                                  test_size = 0.30, \n",
    "                                                  random_state = 1, \n",
    "                                                  stratify = training_labels)"
   ]
  },
  {
   "cell_type": "markdown",
   "metadata": {},
   "source": [
    "# =============== Classification algorithm ==============="
   ]
  },
  {
   "cell_type": "markdown",
   "metadata": {},
   "source": [
    "# Step 5: Make & fit pipeline"
   ]
  },
  {
   "cell_type": "code",
   "execution_count": null,
   "metadata": {},
   "outputs": [],
   "source": [
    "classifier = make_pipeline(SentenceEncoder(\"distiluse-base-multilingual-cased-v2\"),\n",
    "                           SVC(kernel='linear', \n",
    "                               probability=True))\n",
    "\n",
    "classifier.fit(x_train, y_train)"
   ]
  },
  {
   "cell_type": "markdown",
   "metadata": {},
   "source": [
    "# Step 6: Model evaluation"
   ]
  },
  {
   "cell_type": "code",
   "execution_count": null,
   "metadata": {},
   "outputs": [],
   "source": [
    "y_pred = classifier.predict(x_val)\n",
    "print(accuracy_score(y_val,y_pred))\n",
    "print(classification_report(y_val,y_pred))\n",
    "print(confusion_matrix(y_val,y_pred))\n",
    "print()\n",
    "print(accuracy_score(y_val,y_pred))"
   ]
  },
  {
   "cell_type": "markdown",
   "metadata": {},
   "source": [
    "# =============== Save model to disk ==============="
   ]
  },
  {
   "cell_type": "markdown",
   "metadata": {},
   "source": [
    "# Paths"
   ]
  },
  {
   "cell_type": "code",
   "execution_count": null,
   "metadata": {},
   "outputs": [],
   "source": [
    "path_to_model = \"../models/\"\n",
    "model_name = 'tfm_svm'"
   ]
  },
  {
   "cell_type": "markdown",
   "metadata": {},
   "source": [
    "# Save as pickle"
   ]
  },
  {
   "cell_type": "code",
   "execution_count": null,
   "metadata": {},
   "outputs": [],
   "source": [
    "def save_as_pickle(obj, dir_name, file_name):\n",
    "    is_exist = os.path.exists(dir_name)\n",
    "    if not is_exist:\n",
    "        os.makedirs(dir_name)\n",
    "    pickle.dump(obj, open(dir_name+file_name, 'wb'))\n",
    "    \n",
    "save_as_pickle(classifier, path_to_model, model_name)\n",
    "print(\"model object is successfully saved...\")"
   ]
  },
  {
   "cell_type": "markdown",
   "metadata": {},
   "source": [
    "# =================== Test saved model ==================="
   ]
  },
  {
   "cell_type": "code",
   "execution_count": null,
   "metadata": {},
   "outputs": [],
   "source": [
    "# Load model and vectorizer\n",
    "model = pickle.load(open(\"../models/tfm_svm\", 'rb'))"
   ]
  },
  {
   "cell_type": "markdown",
   "metadata": {},
   "source": [
    "# Classification function"
   ]
  },
  {
   "cell_type": "code",
   "execution_count": null,
   "metadata": {},
   "outputs": [],
   "source": [
    "def classification_model(text):\n",
    "    \"\"\"\n",
    "    this function predicts the sentiment of a text\n",
    "    params: string, string, array, model object\n",
    "    returns: dict\n",
    "    \"\"\"\n",
    "    # Predict sentiment\n",
    "    prediction = model.predict([text])[0]\n",
    "    # Get class probabilities\n",
    "    prediction_proba = model.predict_proba([text])[0]\n",
    "    # Get all classes\n",
    "    prediction_classes = model.classes_\n",
    "    # Create class ranking\n",
    "    class_ranking = {classes:conf for classes, conf in zip(prediction_classes, prediction_proba)}\n",
    "    # Sort class ranking\n",
    "    class_ranking = dict(sorted(class_ranking.items(), key=lambda x: x[1], reverse=True))\n",
    "    # Dictionary with empty values\n",
    "    result = {}\n",
    "    # update dictionay\n",
    "    result.update(user_input=text,\n",
    "                  prediction=prediction,\n",
    "                  confidence=class_ranking[prediction],\n",
    "                  class_ranking=class_ranking)\n",
    "\n",
    "    return result"
   ]
  },
  {
   "cell_type": "markdown",
   "metadata": {},
   "source": [
    "# Predict sentiment"
   ]
  },
  {
   "cell_type": "code",
   "execution_count": null,
   "metadata": {},
   "outputs": [],
   "source": [
    "print(\"Test model...\")\n",
    "text = \"ik ben boos\"\n",
    "start_time = time.time()\n",
    "result = classification_model(text)\n",
    "# update execution time\n",
    "result.update(execution_time=\"%s seconds\" % (time.time() - start_time))\n",
    "print(f\"predicted results for input: '{text}'\\n\\n{result}\")"
   ]
  }
 ],
 "metadata": {
  "kernelspec": {
   "display_name": "Python 3 (ipykernel)",
   "language": "python",
   "name": "python3"
  },
  "language_info": {
   "codemirror_mode": {
    "name": "ipython",
    "version": 3
   },
   "file_extension": ".py",
   "mimetype": "text/x-python",
   "name": "python",
   "nbconvert_exporter": "python",
   "pygments_lexer": "ipython3",
   "version": "3.9.13"
  },
  "vscode": {
   "interpreter": {
    "hash": "ce3506c7774a33b252abb89888e7ae819f7955a5456405d55861e89acecd0d1e"
   }
  }
 },
 "nbformat": 4,
 "nbformat_minor": 4
}
