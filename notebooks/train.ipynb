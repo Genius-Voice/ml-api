{
 "cells": [
  {
   "cell_type": "markdown",
   "metadata": {},
   "source": [
    "# Import requirements"
   ]
  },
  {
   "cell_type": "code",
   "execution_count": null,
   "metadata": {},
   "outputs": [],
   "source": [
    "import pandas as pd\n",
    "import pickle\n",
    "import os\n",
    "from sklearn.pipeline import make_pipeline\n",
    "from embetter.text import SentenceEncoder\n",
    "from sklearn.svm import SVC\n",
    "from sklearn.model_selection import train_test_split\n",
    "from sklearn.metrics import (accuracy_score,\n",
    "                             classification_report,\n",
    "                             confusion_matrix, \n",
    "                             accuracy_score)"
   ]
  },
  {
   "cell_type": "markdown",
   "metadata": {},
   "source": [
    "# Step 1: Extract phrases and labels"
   ]
  },
  {
   "cell_type": "code",
   "execution_count": null,
   "metadata": {},
   "outputs": [],
   "source": [
    "path_to_csv = \"../dataset/Tweets.csv\"\n",
    "dataframe = pd.read_csv(path_to_csv)\n",
    "dataframe = dataframe[dataframe['airline_sentiment_confidence'] >= 0.75].drop_duplicates()\n",
    "filtered_df = dataframe.filter(items=[\"text\",\"airline_sentiment\"])\n",
    "phrases = filtered_df[\"text\"].to_numpy()\n",
    "labels = filtered_df[\"airline_sentiment\"].to_numpy()"
   ]
  },
  {
   "cell_type": "markdown",
   "metadata": {},
   "source": [
    "# Step 2: Split data in train and val"
   ]
  },
  {
   "cell_type": "code",
   "execution_count": null,
   "metadata": {},
   "outputs": [],
   "source": [
    "x_train, x_val, y_train, y_val = train_test_split(phrases, \n",
    "                                                  labels,\n",
    "                                                  test_size = 0.30, \n",
    "                                                  random_state = 1, \n",
    "                                                  stratify = labels)"
   ]
  },
  {
   "cell_type": "markdown",
   "metadata": {},
   "source": [
    "# =============== Classification algorithm ==============="
   ]
  },
  {
   "cell_type": "markdown",
   "metadata": {},
   "source": [
    "# Step 3: Make & fit pipeline"
   ]
  },
  {
   "cell_type": "code",
   "execution_count": null,
   "metadata": {},
   "outputs": [],
   "source": [
    "classifier = make_pipeline(SentenceEncoder(\"distiluse-base-multilingual-cased-v2\"),\n",
    "                           SVC(kernel='linear', \n",
    "                               probability=True))\n",
    "\n",
    "classifier.fit(x_train, y_train)"
   ]
  },
  {
   "cell_type": "markdown",
   "metadata": {},
   "source": [
    "# Step 4: Model evaluation"
   ]
  },
  {
   "cell_type": "code",
   "execution_count": null,
   "metadata": {},
   "outputs": [],
   "source": [
    "y_pred = classifier.predict(x_val)\n",
    "print(accuracy_score(y_val,y_pred))\n",
    "print(classification_report(y_val,y_pred))\n",
    "print(confusion_matrix(y_val,y_pred))\n",
    "print()\n",
    "print(accuracy_score(y_val,y_pred))"
   ]
  },
  {
   "cell_type": "markdown",
   "metadata": {},
   "source": [
    "# =============== Save model to disk ==============="
   ]
  },
  {
   "cell_type": "markdown",
   "metadata": {},
   "source": [
    "# Paths"
   ]
  },
  {
   "cell_type": "code",
   "execution_count": null,
   "metadata": {},
   "outputs": [],
   "source": [
    "path_to_model = \"../models/\"\n",
    "model_name = 'tfm_svm'"
   ]
  },
  {
   "cell_type": "markdown",
   "metadata": {},
   "source": [
    "# Save as pickle"
   ]
  },
  {
   "cell_type": "code",
   "execution_count": null,
   "metadata": {},
   "outputs": [],
   "source": [
    "def save_as_pickle(obj, dir_name, file_name):\n",
    "    is_exist = os.path.exists(dir_name)\n",
    "    if not is_exist:\n",
    "        os.makedirs(dir_name)\n",
    "    pickle.dump(obj, open(dir_name+file_name, 'wb'))\n",
    "    \n",
    "save_as_pickle(classifier, path_to_model, model_name)\n",
    "print(\"model object is successfully saved...\")"
   ]
  }
 ],
 "metadata": {
  "kernelspec": {
   "display_name": "Python 3 (ipykernel)",
   "language": "python",
   "name": "python3"
  },
  "language_info": {
   "codemirror_mode": {
    "name": "ipython",
    "version": 3
   },
   "file_extension": ".py",
   "mimetype": "text/x-python",
   "name": "python",
   "nbconvert_exporter": "python",
   "pygments_lexer": "ipython3",
   "version": "3.9.13"
  },
  "vscode": {
   "interpreter": {
    "hash": "ce3506c7774a33b252abb89888e7ae819f7955a5456405d55861e89acecd0d1e"
   }
  }
 },
 "nbformat": 4,
 "nbformat_minor": 4
}
