{
 "cells": [
  {
   "cell_type": "markdown",
   "metadata": {},
   "source": [
    "# Import requirements"
   ]
  },
  {
   "cell_type": "code",
   "execution_count": null,
   "metadata": {},
   "outputs": [],
   "source": [
    "import numpy\n",
    "import pandas as pd\n",
    "import string\n",
    "import re\n",
    "import matplotlib.pyplot as plt\n",
    "from sklearn.feature_extraction.text import CountVectorizer\n",
    "from sklearn.model_selection import train_test_split\n",
    "from sklearn.svm import SVC\n",
    "from sklearn.metrics import accuracy_score\n",
    "from sklearn.metrics import (classification_report, \n",
    "                             confusion_matrix, \n",
    "                             accuracy_score)\n",
    "import os\n",
    "import pickle\n",
    "import time\n",
    "from itables import init_notebook_mode\n",
    "init_notebook_mode(all_interactive=True)"
   ]
  },
  {
   "cell_type": "markdown",
   "metadata": {},
   "source": [
    "# Step 1: Open csv"
   ]
  },
  {
   "cell_type": "code",
   "execution_count": null,
   "metadata": {},
   "outputs": [],
   "source": [
    "path_to_csv = \"../dataset/Tweets.csv\"\n",
    "dataframe = pd.read_csv(path_to_csv)\n",
    "dataframe = dataframe[dataframe['airline_sentiment_confidence'] >= 0.75].drop_duplicates()\n",
    "filtered_df = dataframe.filter(items=[\"text\",\"airline_sentiment\"])\n",
    "filtered_df"
   ]
  },
  {
   "cell_type": "markdown",
   "metadata": {},
   "source": [
    "# Step 2: Extract phrases and labels"
   ]
  },
  {
   "cell_type": "code",
   "execution_count": null,
   "metadata": {},
   "outputs": [],
   "source": [
    "training_phrases = filtered_df[\"text\"].to_numpy()\n",
    "training_labels = filtered_df[\"airline_sentiment\"].to_numpy()"
   ]
  },
  {
   "cell_type": "markdown",
   "metadata": {},
   "source": [
    "# Step 3: Plot label distribution"
   ]
  },
  {
   "cell_type": "code",
   "execution_count": null,
   "metadata": {},
   "outputs": [],
   "source": [
    "def plot_label_dist(labels):\n",
    "    label_dist, label_dist_count = numpy.unique(labels, return_counts = True)\n",
    "    label_dist = label_dist.astype(\"str\")\n",
    "\n",
    "    fig = plt.figure()\n",
    "    ax = fig.add_axes([0,0,1,1])\n",
    "    ax.set_ylabel('Count')\n",
    "    ax.set_title('Label distribution')\n",
    "    ax.bar(label_dist,label_dist_count)\n",
    "    plt.show()\n",
    "\n",
    "plot_label_dist(training_labels)"
   ]
  },
  {
   "cell_type": "markdown",
   "metadata": {},
   "source": [
    "# Step 4: Text preprocessor\n",
    "- lowercase\n",
    "- remove punctuations\n",
    "- remove white spaces"
   ]
  },
  {
   "cell_type": "code",
   "execution_count": null,
   "metadata": {},
   "outputs": [],
   "source": [
    "def text_preprocessor(training_phrases):\n",
    "    \"\"\"\n",
    "    input: array\n",
    "    Takes in an array with sentences & cleans the sentences\n",
    "    output: array \"\"\"\n",
    "    clean_tps = []\n",
    "    for sentence in training_phrases:\n",
    "        # Lowercase\n",
    "        sentence = sentence.lower()\n",
    "        # Remove white spaces\n",
    "        sentence = re.sub(' +', ' ',sentence).strip()\n",
    "        # Append cleaned sentences\n",
    "        clean_tps.append(sentence)\n",
    "\n",
    "    return clean_tps\n",
    "\n",
    "clean_tps = text_preprocessor(training_phrases)\n",
    "\n",
    "print(f\"Before preprocessor:\\n{training_phrases[20]}\\n\\nAfter preprocessor: \\n{clean_tps[20]}\")"
   ]
  },
  {
   "cell_type": "markdown",
   "metadata": {},
   "source": [
    "# ======================= Featurization ======================="
   ]
  },
  {
   "cell_type": "markdown",
   "metadata": {},
   "source": [
    "# Step 5: Countvectorizer"
   ]
  },
  {
   "cell_type": "code",
   "execution_count": null,
   "metadata": {},
   "outputs": [],
   "source": [
    "vectorizer = CountVectorizer(max_features=5000).fit(clean_tps)\n",
    "sparse_features = vectorizer.transform(clean_tps)"
   ]
  },
  {
   "cell_type": "markdown",
   "metadata": {},
   "source": [
    "# Checkpoint "
   ]
  },
  {
   "cell_type": "code",
   "execution_count": null,
   "metadata": {},
   "outputs": [],
   "source": [
    "print(\"Shape of features: {}\".format(sparse_features.shape))\n",
    "print(\"Vectorized example: {}\".format(sparse_features[0].toarray()))"
   ]
  },
  {
   "cell_type": "markdown",
   "metadata": {},
   "source": [
    "# Step 6: Split data in train and test"
   ]
  },
  {
   "cell_type": "code",
   "execution_count": null,
   "metadata": {},
   "outputs": [],
   "source": [
    "x_train, x_val, y_train, y_val = train_test_split(sparse_features, \n",
    "                                                  training_labels,\n",
    "                                                  test_size = 0.30, \n",
    "                                                  random_state = 1, \n",
    "                                                  stratify = training_labels)"
   ]
  },
  {
   "cell_type": "markdown",
   "metadata": {},
   "source": [
    "# =============== Classification algorithm ==============="
   ]
  },
  {
   "cell_type": "markdown",
   "metadata": {},
   "source": [
    "# Step 7: SVM model"
   ]
  },
  {
   "cell_type": "code",
   "execution_count": null,
   "metadata": {},
   "outputs": [],
   "source": [
    "clf = SVC(kernel='linear', \n",
    "          probability=True)\n",
    "\n",
    "clf.fit(x_train,y_train)\n",
    "y_pred = clf.predict(x_val)\n",
    "print(accuracy_score(y_val,y_pred))"
   ]
  },
  {
   "cell_type": "markdown",
   "metadata": {},
   "source": [
    "# Step 8: Model evaluation"
   ]
  },
  {
   "cell_type": "code",
   "execution_count": null,
   "metadata": {},
   "outputs": [],
   "source": [
    "print(classification_report(y_val,y_pred))\n",
    "print(confusion_matrix(y_val,y_pred))\n",
    "print()\n",
    "print(accuracy_score(y_val,y_pred))"
   ]
  },
  {
   "cell_type": "markdown",
   "metadata": {},
   "source": [
    "# =============== Save objects to disk ===============\n",
    "- count vectorizer\n",
    "- trained model"
   ]
  },
  {
   "cell_type": "markdown",
   "metadata": {},
   "source": [
    "## Paths"
   ]
  },
  {
   "cell_type": "code",
   "execution_count": null,
   "metadata": {},
   "outputs": [],
   "source": [
    "path_to_model = \"../models/\"\n",
    "path_to_features = \"../featurizers/\"\n",
    "feature_name = 'sparse_features'\n",
    "model_name = 'svm'"
   ]
  },
  {
   "cell_type": "markdown",
   "metadata": {},
   "source": [
    "## Save as pickle"
   ]
  },
  {
   "cell_type": "code",
   "execution_count": null,
   "metadata": {},
   "outputs": [],
   "source": [
    "def save_as_pickle(obj, dir_name, file_name):\n",
    "    is_exist = os.path.exists(dir_name)\n",
    "    if not is_exist:\n",
    "        os.makedirs(dir_name)\n",
    "    pickle.dump(obj, open(dir_name+file_name, 'wb'))\n",
    "    \n",
    "save_as_pickle(vectorizer, path_to_features, feature_name)\n",
    "print(\"feature object is succesfully saved...\")\n",
    "save_as_pickle(clf, path_to_model, model_name)\n",
    "print(\"model object is successfully saved...\")"
   ]
  },
  {
   "cell_type": "markdown",
   "metadata": {},
   "source": [
    "# =================== Test saved model ==================="
   ]
  },
  {
   "cell_type": "code",
   "execution_count": null,
   "metadata": {},
   "outputs": [],
   "source": [
    "# Load model and vectorizer\n",
    "model = pickle.load(open(\"../models/svm\", 'rb'))\n",
    "vectorizer = pickle.load(open(\"../featurizers/sparse_features\", 'rb'))"
   ]
  },
  {
   "cell_type": "markdown",
   "metadata": {},
   "source": [
    "# Step 1: Preprocessing"
   ]
  },
  {
   "cell_type": "code",
   "execution_count": null,
   "metadata": {},
   "outputs": [],
   "source": [
    "def text_preprocessor(sentence):\n",
    "    \"\"\" \n",
    "    this function cleans a text\n",
    "    param: string\n",
    "    returns: string\n",
    "    \"\"\"\n",
    "    # Lowercase\n",
    "    sentence = sentence.lower()\n",
    "    # Remove white spaces\n",
    "    sentence = re.sub(' +', ' ',sentence).strip()\n",
    "    return sentence"
   ]
  },
  {
   "cell_type": "markdown",
   "metadata": {},
   "source": [
    "# Step 2: Feature extraction"
   ]
  },
  {
   "cell_type": "code",
   "execution_count": null,
   "metadata": {},
   "outputs": [],
   "source": [
    "def count_vectorizer(clean_text):\n",
    "    \"\"\"\n",
    "    this function vectorizes a text\n",
    "    params: string, vectorizer object\n",
    "    returns: array\n",
    "    \"\"\"\n",
    "    # Transform text to vector\n",
    "    vectorized_text = vectorizer.transform([clean_text])\n",
    "    return vectorized_text"
   ]
  },
  {
   "cell_type": "markdown",
   "metadata": {},
   "source": [
    "# Step 3: Classification"
   ]
  },
  {
   "cell_type": "code",
   "execution_count": null,
   "metadata": {},
   "outputs": [],
   "source": [
    "def classification_model(text, clean_text, vectorized_text):\n",
    "    \"\"\"\n",
    "    this function predicts the sentiment of a text\n",
    "    params: string, string, array, model object\n",
    "    returns: dict\n",
    "    \"\"\"\n",
    "    # Predict sentiment\n",
    "    prediction = model.predict(vectorized_text)[0]\n",
    "    # Get class probabilities\n",
    "    prediction_proba = model.predict_proba(vectorized_text)[0]\n",
    "    # Get all classes\n",
    "    prediction_classes = model.classes_\n",
    "    # Create class ranking\n",
    "    class_ranking = {classes:conf for classes, conf in zip(prediction_classes, prediction_proba)}\n",
    "    # Sort class ranking\n",
    "    class_ranking = dict(sorted(class_ranking.items(), key=lambda x: x[1], reverse=True))\n",
    "    # Dictionary with empy values\n",
    "    result = {}\n",
    "    # update dictionay\n",
    "    result.update(user_input=text,\n",
    "                  clean_text=clean_text,\n",
    "                  prediction=prediction,\n",
    "                  confidence=class_ranking[prediction],\n",
    "                  class_ranking=class_ranking)\n",
    "\n",
    "    return result"
   ]
  },
  {
   "cell_type": "markdown",
   "metadata": {},
   "source": [
    "# Combine all steps"
   ]
  },
  {
   "cell_type": "code",
   "execution_count": null,
   "metadata": {},
   "outputs": [],
   "source": [
    "text = \"I am sad\"\n",
    "start_time = time.time()\n",
    "# Text cleaner\n",
    "clean_text = text_preprocessor(text)\n",
    "# Feature_extraction\n",
    "vectorized_text = count_vectorizer(clean_text)\n",
    "# Classification model\n",
    "result = classification_model(text, clean_text, vectorized_text)\n",
    "# update execution time\n",
    "result.update(execution_time=\"%s seconds\" % (time.time() - start_time))\n",
    "result"
   ]
  }
 ],
 "metadata": {
  "kernelspec": {
   "display_name": "Python 3.9.13 64-bit",
   "language": "python",
   "name": "python3"
  },
  "language_info": {
   "codemirror_mode": {
    "name": "ipython",
    "version": 3
   },
   "file_extension": ".py",
   "mimetype": "text/x-python",
   "name": "python",
   "nbconvert_exporter": "python",
   "pygments_lexer": "ipython3",
   "version": "3.9.13"
  },
  "vscode": {
   "interpreter": {
    "hash": "ce3506c7774a33b252abb89888e7ae819f7955a5456405d55861e89acecd0d1e"
   }
  }
 },
 "nbformat": 4,
 "nbformat_minor": 4
}
