{
 "cells": [
  {
   "cell_type": "markdown",
   "metadata": {},
   "source": [
    "# Import requirements"
   ]
  },
  {
   "cell_type": "code",
   "execution_count": null,
   "metadata": {},
   "outputs": [],
   "source": [
    "import pickle\n",
    "import time"
   ]
  },
  {
   "cell_type": "markdown",
   "metadata": {},
   "source": [
    "# =================== Test saved model ==================="
   ]
  },
  {
   "cell_type": "code",
   "execution_count": null,
   "metadata": {},
   "outputs": [],
   "source": [
    "# Load model and vectorizer\n",
    "model = pickle.load(open(\"../models/tfm_svm\", 'rb'))"
   ]
  },
  {
   "cell_type": "markdown",
   "metadata": {},
   "source": [
    "# Classification function"
   ]
  },
  {
   "cell_type": "code",
   "execution_count": null,
   "metadata": {},
   "outputs": [],
   "source": [
    "def classification_model(text):\n",
    "    \"\"\"\n",
    "    this function predicts the sentiment of a text\n",
    "    params: string, string, array, model object\n",
    "    returns: dict\n",
    "    \"\"\"\n",
    "    # Predict sentiment\n",
    "    prediction = model.predict([text])[0]\n",
    "    # Get class probabilities\n",
    "    prediction_proba = model.predict_proba([text])[0]\n",
    "    # Get all classes\n",
    "    prediction_classes = model.classes_\n",
    "    # Create class ranking\n",
    "    class_ranking = {classes:conf for classes, conf in zip(prediction_classes, prediction_proba)}\n",
    "    # Sort class ranking\n",
    "    class_ranking = dict(sorted(class_ranking.items(), key=lambda x: x[1], reverse=True))\n",
    "    # Dictionary with empty values\n",
    "    result = {}\n",
    "    # update dictionay\n",
    "    result.update(user_input=text,\n",
    "                  prediction=prediction,\n",
    "                  confidence=class_ranking[prediction],\n",
    "                  class_ranking=class_ranking)\n",
    "\n",
    "    return result"
   ]
  },
  {
   "cell_type": "markdown",
   "metadata": {},
   "source": [
    "# Predict sentiment"
   ]
  },
  {
   "cell_type": "code",
   "execution_count": null,
   "metadata": {},
   "outputs": [],
   "source": [
    "print(\"Test model...\")\n",
    "text = \"ik ben boos\"\n",
    "start_time = time.time()\n",
    "result = classification_model(text)\n",
    "# update execution time\n",
    "result.update(execution_time=\"%s seconds\" % (time.time() - start_time))\n",
    "print(f\"predicted results for input: '{text}'\\n\\n{result}\")"
   ]
  }
 ],
 "metadata": {
  "kernelspec": {
   "display_name": "Python 3 (ipykernel)",
   "language": "python",
   "name": "python3"
  },
  "language_info": {
   "codemirror_mode": {
    "name": "ipython",
    "version": 3
   },
   "file_extension": ".py",
   "mimetype": "text/x-python",
   "name": "python",
   "nbconvert_exporter": "python",
   "pygments_lexer": "ipython3",
   "version": "3.9.13"
  },
  "vscode": {
   "interpreter": {
    "hash": "ce3506c7774a33b252abb89888e7ae819f7955a5456405d55861e89acecd0d1e"
   }
  }
 },
 "nbformat": 4,
 "nbformat_minor": 4
}
