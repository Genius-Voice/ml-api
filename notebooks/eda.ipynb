{
 "cells": [
  {
   "cell_type": "markdown",
   "metadata": {},
   "source": [
    "# Import requirements"
   ]
  },
  {
   "cell_type": "code",
   "execution_count": null,
   "metadata": {},
   "outputs": [],
   "source": [
    "import numpy\n",
    "import re\n",
    "import string\n",
    "import pandas as pd\n",
    "import nltk\n",
    "nltk.download(\"stopwords\")\n",
    "from nltk.corpus import stopwords\n",
    "from nltk import FreqDist\n",
    "import matplotlib.pyplot as plt\n",
    "from itables import init_notebook_mode\n",
    "init_notebook_mode(all_interactive=True)"
   ]
  },
  {
   "cell_type": "markdown",
   "metadata": {},
   "source": [
    "# Step 1: Open csv"
   ]
  },
  {
   "cell_type": "code",
   "execution_count": null,
   "metadata": {},
   "outputs": [],
   "source": [
    "path_to_csv = \"../dataset/Tweets.csv\"\n",
    "dataframe = pd.read_csv(path_to_csv)\n",
    "dataframe = dataframe[dataframe['airline_sentiment_confidence'] >= 0.75].drop_duplicates()\n",
    "filtered_df = dataframe.filter(items=[\"text\",\"airline_sentiment\"])\n",
    "filtered_df"
   ]
  },
  {
   "cell_type": "markdown",
   "metadata": {},
   "source": [
    "# Step 2: Extract phrases and labels"
   ]
  },
  {
   "cell_type": "code",
   "execution_count": null,
   "metadata": {},
   "outputs": [],
   "source": [
    "phrases = filtered_df[\"text\"].to_numpy()\n",
    "labels = filtered_df[\"airline_sentiment\"].to_numpy()"
   ]
  },
  {
   "cell_type": "markdown",
   "metadata": {},
   "source": [
    "# ======================== EDA ========================"
   ]
  },
  {
   "cell_type": "code",
   "execution_count": null,
   "metadata": {},
   "outputs": [],
   "source": [
    "def text_cleaner(text_list, \n",
    "                 lowercase = True,\n",
    "                 remove_stopwords = True,\n",
    "                 custom_stopwords = [],\n",
    "                 language = \"english\",\n",
    "                 remove_punctuations = True,\n",
    "                 remove_whitespaces = True):\n",
    "    \"\"\"\n",
    "    input: list\n",
    "    params:\n",
    "    lowercase           = Set to True to transform text to lowercase\n",
    "    debug               = Set to True for intermediate results\n",
    "    remove_stopwords    = Set to True to remove stop words\n",
    "    custom_stopwords    = custom words for stop words removal\n",
    "    language            = language for stop words\n",
    "    remove_punctuations = Set to True to remove punctuations\n",
    "    remove_whitespaces  = Set to True to remove extra white spaces\n",
    "    output: list \"\"\"\n",
    "    # empty list\n",
    "    clean_text_list = []\n",
    "    # loop in phrases\n",
    "    for text in text_list:\n",
    "        if lowercase:\n",
    "            # Lowercase\n",
    "            text = text.lower()\n",
    "        if remove_punctuations:\n",
    "            # Remove punctuations\n",
    "            text = text.translate(str.maketrans('', '', string.punctuation))\n",
    "        if remove_whitespaces:\n",
    "            # Remove white spaces\n",
    "            text = re.sub(' +', ' ',text).strip()\n",
    "        if remove_stopwords:\n",
    "            # available languages\n",
    "            available_languages = stopwords.fileids()\n",
    "            # check if language is valid\n",
    "            if language in available_languages:\n",
    "                # stop words\n",
    "                stop_words = stopwords.words(language)\n",
    "                # remove stop words\n",
    "                text = \" \".join([word for word in text.split() \n",
    "                                 if word not in stop_words+custom_stopwords])\n",
    "                # raise value error if language is not valid\n",
    "            else:\n",
    "                raise ValueError(f\"{language} is not supported. Available languages are {available_languages}\")\n",
    "        if text and text not in clean_text_list:\n",
    "            # append to clean text list\n",
    "            clean_text_list.append(text)\n",
    "    # token list\n",
    "    text_tokens = [token\n",
    "                   for sentence in clean_text_list\n",
    "                   for token in sentence.split()]\n",
    "\n",
    "    return clean_text_list, text_tokens"
   ]
  },
  {
   "cell_type": "markdown",
   "metadata": {},
   "source": [
    "# Plot label distribution"
   ]
  },
  {
   "cell_type": "code",
   "execution_count": null,
   "metadata": {},
   "outputs": [],
   "source": [
    "def plot_frequency_distribution(text_tokens, \n",
    "                                remove_stopwords = True,\n",
    "                                exclude_words = [],\n",
    "                                top_n = 10):\n",
    "    \"\"\"\n",
    "    input: list\n",
    "    Displays the most frequent words in a plot.\n",
    "    params: \n",
    "    top_n = The top number of results to display\n",
    "    output: frequency plot \"\"\"\n",
    "    labels, label_counts = numpy.unique(text_tokens, return_counts = True)\n",
    "    sorted_labels = []\n",
    "    sorted_counts = []\n",
    "    for count, label in sorted(zip(label_counts, labels),reverse=True):\n",
    "        sorted_counts.append(count)\n",
    "        sorted_labels.append(label)\n",
    "        \n",
    "    fig = plt.figure()\n",
    "    ax = fig.add_axes([0,0,1,1])\n",
    "    ax.set_ylabel('Count')\n",
    "    ax.set_title('Label distribution')\n",
    "    ax.bar(sorted_labels[:top_n],sorted_counts[:top_n])\n",
    "    plt.xticks(rotation=90)\n",
    "    plt.show()"
   ]
  },
  {
   "cell_type": "markdown",
   "metadata": {},
   "source": [
    "# Plot label distribution"
   ]
  },
  {
   "cell_type": "code",
   "execution_count": null,
   "metadata": {},
   "outputs": [],
   "source": [
    "plot_frequency_distribution(labels)"
   ]
  },
  {
   "cell_type": "markdown",
   "metadata": {},
   "source": [
    "# Plot word distribution"
   ]
  },
  {
   "cell_type": "code",
   "execution_count": null,
   "metadata": {},
   "outputs": [],
   "source": [
    "_, text_tokens = text_cleaner(phrases)\n",
    "plot_frequency_distribution(text_tokens)"
   ]
  },
  {
   "cell_type": "code",
   "execution_count": null,
   "metadata": {},
   "outputs": [],
   "source": []
  }
 ],
 "metadata": {
  "kernelspec": {
   "display_name": "Python 3 (ipykernel)",
   "language": "python",
   "name": "python3"
  },
  "language_info": {
   "codemirror_mode": {
    "name": "ipython",
    "version": 3
   },
   "file_extension": ".py",
   "mimetype": "text/x-python",
   "name": "python",
   "nbconvert_exporter": "python",
   "pygments_lexer": "ipython3",
   "version": "3.9.13"
  },
  "vscode": {
   "interpreter": {
    "hash": "ce3506c7774a33b252abb89888e7ae819f7955a5456405d55861e89acecd0d1e"
   }
  }
 },
 "nbformat": 4,
 "nbformat_minor": 4
}
