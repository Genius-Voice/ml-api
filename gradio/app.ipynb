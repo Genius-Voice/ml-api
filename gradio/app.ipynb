{
 "cells": [
  {
   "cell_type": "markdown",
   "id": "98e9ea80",
   "metadata": {},
   "source": [
    "# Import requirements"
   ]
  },
  {
   "cell_type": "code",
   "execution_count": 4,
   "id": "dda341cb",
   "metadata": {},
   "outputs": [],
   "source": [
    "import gradio as gr\n",
    "import pickle"
   ]
  },
  {
   "cell_type": "markdown",
   "id": "132c713e",
   "metadata": {},
   "source": [
    "# Load model"
   ]
  },
  {
   "cell_type": "code",
   "execution_count": 5,
   "id": "da9eaee7",
   "metadata": {},
   "outputs": [],
   "source": [
    "model = pickle.load(open(\"../models/tfm_svm\", 'rb'))"
   ]
  },
  {
   "cell_type": "markdown",
   "id": "6cfa59f3",
   "metadata": {},
   "source": [
    "# Sentiment analysis function"
   ]
  },
  {
   "cell_type": "code",
   "execution_count": 6,
   "id": "5b638d3d",
   "metadata": {},
   "outputs": [],
   "source": [
    "def sentiment_analysis(text):\n",
    "    # Predict sentiment\n",
    "    prediction = model.predict([text])[0]\n",
    "    # Get class probabilities\n",
    "    prediction_proba = model.predict_proba([text])[0]\n",
    "    # Get all classes\n",
    "    prediction_classes = model.classes_\n",
    "    # Create class ranking\n",
    "    class_ranking = {classes:conf for classes, conf in zip(prediction_classes, prediction_proba)}\n",
    "    # Sort class ranking\n",
    "    class_ranking = dict(sorted(class_ranking.items(), key=lambda x: x[1], reverse=True))\n",
    "\n",
    "    return class_ranking"
   ]
  },
  {
   "cell_type": "markdown",
   "id": "9f1ad60d",
   "metadata": {},
   "source": [
    "# Launch app"
   ]
  },
  {
   "cell_type": "code",
   "execution_count": 7,
   "id": "366dd6fb",
   "metadata": {},
   "outputs": [
    {
     "name": "stdout",
     "output_type": "stream",
     "text": [
      "Running on local URL:  http://127.0.0.1:7923\n",
      "\n",
      "To create a public link, set `share=True` in `launch()`.\n"
     ]
    },
    {
     "data": {
      "text/html": [
       "<div><iframe src=\"http://127.0.0.1:7923/\" width=\"100%\" height=\"500\" allow=\"autoplay; camera; microphone; clipboard-read; clipboard-write;\" frameborder=\"0\" allowfullscreen></iframe></div>"
      ],
      "text/plain": [
       "<IPython.core.display.HTML object>"
      ]
     },
     "metadata": {},
     "output_type": "display_data"
    },
    {
     "data": {
      "text/plain": []
     },
     "execution_count": 7,
     "metadata": {},
     "output_type": "execute_result"
    }
   ],
   "source": [
    "demo = gr.Interface(\n",
    "    fn=sentiment_analysis, \n",
    "    inputs=gr.Textbox(placeholder=\"Enter a positive or negative sentence here...\"), \n",
    "    outputs=\"label\", \n",
    "    interpretation=\"default\",\n",
    "    examples=[[\"This is wonderful!\"]])\n",
    "\n",
    "demo.launch()"
   ]
  },
  {
   "cell_type": "code",
   "execution_count": null,
   "id": "aa578a87",
   "metadata": {},
   "outputs": [],
   "source": []
  }
 ],
 "metadata": {
  "kernelspec": {
   "display_name": "Python 3 (ipykernel)",
   "language": "python",
   "name": "python3"
  },
  "language_info": {
   "codemirror_mode": {
    "name": "ipython",
    "version": 3
   },
   "file_extension": ".py",
   "mimetype": "text/x-python",
   "name": "python",
   "nbconvert_exporter": "python",
   "pygments_lexer": "ipython3",
   "version": "3.9.13"
  },
  "vscode": {
   "interpreter": {
    "hash": "ce3506c7774a33b252abb89888e7ae819f7955a5456405d55861e89acecd0d1e"
   }
  }
 },
 "nbformat": 4,
 "nbformat_minor": 5
}
